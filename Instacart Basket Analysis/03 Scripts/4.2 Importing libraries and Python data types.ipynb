{
 "cells": [
  {
   "cell_type": "markdown",
   "id": "c9efdd64",
   "metadata": {},
   "source": [
    "# 01. Importing Libraries"
   ]
  },
  {
   "cell_type": "code",
   "execution_count": null,
   "id": "02f95170",
   "metadata": {},
   "outputs": [],
   "source": []
  },
  {
   "cell_type": "code",
   "execution_count": 2,
   "id": "506edeb9",
   "metadata": {},
   "outputs": [],
   "source": [
    "# Import Libraries\n",
    "import pandas as pd\n",
    "import numpy as np\n",
    "import os"
   ]
  },
  {
   "cell_type": "markdown",
   "id": "b217f68d",
   "metadata": {},
   "source": [
    "# Practice data types"
   ]
  },
  {
   "cell_type": "code",
   "execution_count": 3,
   "id": "68670d4f",
   "metadata": {},
   "outputs": [],
   "source": [
    "x = 2"
   ]
  },
  {
   "cell_type": "code",
   "execution_count": 4,
   "id": "7504b6e3",
   "metadata": {},
   "outputs": [
    {
     "data": {
      "text/plain": [
       "2"
      ]
     },
     "execution_count": 4,
     "metadata": {},
     "output_type": "execute_result"
    }
   ],
   "source": [
    "x"
   ]
  },
  {
   "cell_type": "code",
   "execution_count": 5,
   "id": "214e0fad",
   "metadata": {},
   "outputs": [
    {
     "name": "stdout",
     "output_type": "stream",
     "text": [
      "2\n"
     ]
    }
   ],
   "source": [
    "print(x)"
   ]
  },
  {
   "cell_type": "code",
   "execution_count": 6,
   "id": "45916f62",
   "metadata": {},
   "outputs": [
    {
     "data": {
      "text/plain": [
       "int"
      ]
     },
     "execution_count": 6,
     "metadata": {},
     "output_type": "execute_result"
    }
   ],
   "source": [
    "type (x)"
   ]
  },
  {
   "cell_type": "code",
   "execution_count": 7,
   "id": "10926302",
   "metadata": {},
   "outputs": [],
   "source": [
    "y = 5.678"
   ]
  },
  {
   "cell_type": "code",
   "execution_count": 8,
   "id": "cbaaccb4",
   "metadata": {},
   "outputs": [
    {
     "data": {
      "text/plain": [
       "float"
      ]
     },
     "execution_count": 8,
     "metadata": {},
     "output_type": "execute_result"
    }
   ],
   "source": [
    "type (y)"
   ]
  },
  {
   "cell_type": "code",
   "execution_count": 9,
   "id": "edeef507",
   "metadata": {},
   "outputs": [],
   "source": [
    "z = 'Brazil'"
   ]
  },
  {
   "cell_type": "code",
   "execution_count": 10,
   "id": "f970bcb5",
   "metadata": {},
   "outputs": [
    {
     "data": {
      "text/plain": [
       "str"
      ]
     },
     "execution_count": 10,
     "metadata": {},
     "output_type": "execute_result"
    }
   ],
   "source": [
    "type (z)"
   ]
  },
  {
   "cell_type": "code",
   "execution_count": 71,
   "id": "984ad19c",
   "metadata": {},
   "outputs": [
    {
     "data": {
      "text/plain": [
       "str"
      ]
     },
     "execution_count": 71,
     "metadata": {},
     "output_type": "execute_result"
    }
   ],
   "source": [
    "type ('brazil')"
   ]
  },
  {
   "cell_type": "code",
   "execution_count": 12,
   "id": "bd46985f",
   "metadata": {},
   "outputs": [
    {
     "data": {
      "text/plain": [
       "str"
      ]
     },
     "execution_count": 12,
     "metadata": {},
     "output_type": "execute_result"
    }
   ],
   "source": [
    "type ('brazil')"
   ]
  },
  {
   "cell_type": "code",
   "execution_count": 70,
   "id": "80d29cfc",
   "metadata": {},
   "outputs": [
    {
     "data": {
      "text/plain": [
       "bool"
      ]
     },
     "execution_count": 70,
     "metadata": {},
     "output_type": "execute_result"
    }
   ],
   "source": [
    "type (True)"
   ]
  },
  {
   "cell_type": "code",
   "execution_count": 14,
   "id": "1d2825c1",
   "metadata": {},
   "outputs": [
    {
     "data": {
      "text/plain": [
       "bool"
      ]
     },
     "execution_count": 14,
     "metadata": {},
     "output_type": "execute_result"
    }
   ],
   "source": [
    "type (True)"
   ]
  },
  {
   "cell_type": "code",
   "execution_count": 15,
   "id": "3c91f73b",
   "metadata": {},
   "outputs": [
    {
     "data": {
      "text/plain": [
       "bool"
      ]
     },
     "execution_count": 15,
     "metadata": {},
     "output_type": "execute_result"
    }
   ],
   "source": [
    "type (False)"
   ]
  },
  {
   "cell_type": "code",
   "execution_count": 16,
   "id": "00b2dc2a",
   "metadata": {},
   "outputs": [
    {
     "data": {
      "text/plain": [
       "6"
      ]
     },
     "execution_count": 16,
     "metadata": {},
     "output_type": "execute_result"
    }
   ],
   "source": [
    "x + 4"
   ]
  },
  {
   "cell_type": "code",
   "execution_count": 17,
   "id": "8bdd6ad9",
   "metadata": {},
   "outputs": [
    {
     "data": {
      "text/plain": [
       "7.678"
      ]
     },
     "execution_count": 17,
     "metadata": {},
     "output_type": "execute_result"
    }
   ],
   "source": [
    "x+y"
   ]
  },
  {
   "cell_type": "code",
   "execution_count": 18,
   "id": "9af45240",
   "metadata": {},
   "outputs": [
    {
     "data": {
      "text/plain": [
       "7.678"
      ]
     },
     "execution_count": 18,
     "metadata": {},
     "output_type": "execute_result"
    }
   ],
   "source": [
    "x + y"
   ]
  },
  {
   "cell_type": "code",
   "execution_count": 19,
   "id": "9826053b",
   "metadata": {},
   "outputs": [],
   "source": [
    "x = x + 4"
   ]
  },
  {
   "cell_type": "code",
   "execution_count": 20,
   "id": "806734eb",
   "metadata": {},
   "outputs": [
    {
     "name": "stdout",
     "output_type": "stream",
     "text": [
      "6\n"
     ]
    }
   ],
   "source": [
    "print (x)"
   ]
  },
  {
   "cell_type": "code",
   "execution_count": 24,
   "id": "de07f663",
   "metadata": {},
   "outputs": [],
   "source": [
    "a = 'hello, '"
   ]
  },
  {
   "cell_type": "code",
   "execution_count": 22,
   "id": "24a15aec",
   "metadata": {},
   "outputs": [],
   "source": [
    "b  = 'Marley'"
   ]
  },
  {
   "cell_type": "code",
   "execution_count": 25,
   "id": "d2eeddc4",
   "metadata": {},
   "outputs": [
    {
     "data": {
      "text/plain": [
       "'hello, Marley'"
      ]
     },
     "execution_count": 25,
     "metadata": {},
     "output_type": "execute_result"
    }
   ],
   "source": [
    "a + b "
   ]
  },
  {
   "cell_type": "code",
   "execution_count": 27,
   "id": "6157fb7a",
   "metadata": {},
   "outputs": [],
   "source": [
    "n = 'potato'"
   ]
  },
  {
   "cell_type": "code",
   "execution_count": 72,
   "id": "649b360b",
   "metadata": {},
   "outputs": [
    {
     "data": {
      "text/plain": [
       "'nnnnnnnnnnnn'"
      ]
     },
     "execution_count": 72,
     "metadata": {},
     "output_type": "execute_result"
    }
   ],
   "source": [
    "12 * 'n'"
   ]
  },
  {
   "cell_type": "code",
   "execution_count": 73,
   "id": "e45b4c66",
   "metadata": {},
   "outputs": [
    {
     "data": {
      "text/plain": [
       "'had had had had had had had had had had had had '"
      ]
     },
     "execution_count": 73,
     "metadata": {},
     "output_type": "execute_result"
    }
   ],
   "source": [
    "n * 12"
   ]
  },
  {
   "cell_type": "code",
   "execution_count": 30,
   "id": "54df5057",
   "metadata": {},
   "outputs": [
    {
     "data": {
      "text/plain": [
       "False"
      ]
     },
     "execution_count": 30,
     "metadata": {},
     "output_type": "execute_result"
    }
   ],
   "source": [
    "x == y"
   ]
  },
  {
   "cell_type": "code",
   "execution_count": 31,
   "id": "5493e350",
   "metadata": {},
   "outputs": [
    {
     "data": {
      "text/plain": [
       "bool"
      ]
     },
     "execution_count": 31,
     "metadata": {},
     "output_type": "execute_result"
    }
   ],
   "source": [
    "type (x==y)"
   ]
  },
  {
   "cell_type": "markdown",
   "id": "d7237383",
   "metadata": {},
   "source": [
    "# Ex.4.2 Q7"
   ]
  },
  {
   "cell_type": "code",
   "execution_count": 32,
   "id": "e6f6fa18",
   "metadata": {},
   "outputs": [],
   "source": [
    "e = 10"
   ]
  },
  {
   "cell_type": "code",
   "execution_count": 33,
   "id": "e2737499",
   "metadata": {},
   "outputs": [
    {
     "name": "stdout",
     "output_type": "stream",
     "text": [
      "10\n"
     ]
    }
   ],
   "source": [
    "print (e)"
   ]
  },
  {
   "cell_type": "code",
   "execution_count": 34,
   "id": "bfaa650c",
   "metadata": {},
   "outputs": [],
   "source": [
    "f = 5"
   ]
  },
  {
   "cell_type": "code",
   "execution_count": 35,
   "id": "72c310e2",
   "metadata": {},
   "outputs": [],
   "source": [
    "g = 50"
   ]
  },
  {
   "cell_type": "code",
   "execution_count": 36,
   "id": "60e1a43a",
   "metadata": {},
   "outputs": [
    {
     "data": {
      "text/plain": [
       "100"
      ]
     },
     "execution_count": 36,
     "metadata": {},
     "output_type": "execute_result"
    }
   ],
   "source": [
    "e * e"
   ]
  },
  {
   "cell_type": "code",
   "execution_count": 37,
   "id": "a4bb8469",
   "metadata": {},
   "outputs": [
    {
     "data": {
      "text/plain": [
       "100"
      ]
     },
     "execution_count": 37,
     "metadata": {},
     "output_type": "execute_result"
    }
   ],
   "source": [
    "g * (x - 4)"
   ]
  },
  {
   "cell_type": "code",
   "execution_count": 39,
   "id": "d278c0d1",
   "metadata": {},
   "outputs": [
    {
     "data": {
      "text/plain": [
       "100"
      ]
     },
     "execution_count": 39,
     "metadata": {},
     "output_type": "execute_result"
    }
   ],
   "source": [
    "g + (e * 5)"
   ]
  },
  {
   "cell_type": "markdown",
   "id": "2cbac83a",
   "metadata": {},
   "source": [
    "# Q8"
   ]
  },
  {
   "cell_type": "code",
   "execution_count": 40,
   "id": "134e2c1b",
   "metadata": {},
   "outputs": [],
   "source": [
    "h = 3.56"
   ]
  },
  {
   "cell_type": "code",
   "execution_count": 41,
   "id": "c1cfb84f",
   "metadata": {},
   "outputs": [],
   "source": [
    "i = 10.1"
   ]
  },
  {
   "cell_type": "code",
   "execution_count": 42,
   "id": "c1299fe6",
   "metadata": {},
   "outputs": [
    {
     "data": {
      "text/plain": [
       "0.3524752475247525"
      ]
     },
     "execution_count": 42,
     "metadata": {},
     "output_type": "execute_result"
    }
   ],
   "source": [
    "h / i"
   ]
  },
  {
   "cell_type": "code",
   "execution_count": 43,
   "id": "0360c9f1",
   "metadata": {},
   "outputs": [
    {
     "data": {
      "text/plain": [
       "2.837078651685393"
      ]
     },
     "execution_count": 43,
     "metadata": {},
     "output_type": "execute_result"
    }
   ],
   "source": [
    "i / h"
   ]
  },
  {
   "cell_type": "markdown",
   "id": "de7e396e",
   "metadata": {},
   "source": [
    "# Q9"
   ]
  },
  {
   "cell_type": "code",
   "execution_count": 44,
   "id": "6d5f848e",
   "metadata": {},
   "outputs": [],
   "source": [
    "j = 'c'"
   ]
  },
  {
   "cell_type": "code",
   "execution_count": 45,
   "id": "4da78cf8",
   "metadata": {},
   "outputs": [],
   "source": [
    "k = 'a'"
   ]
  },
  {
   "cell_type": "code",
   "execution_count": 46,
   "id": "1369d5c7",
   "metadata": {},
   "outputs": [],
   "source": [
    "l = 't'"
   ]
  },
  {
   "cell_type": "code",
   "execution_count": 51,
   "id": "76fc3d60",
   "metadata": {},
   "outputs": [
    {
     "data": {
      "text/plain": [
       "str"
      ]
     },
     "execution_count": 51,
     "metadata": {},
     "output_type": "execute_result"
    }
   ],
   "source": [
    "type (j)"
   ]
  },
  {
   "cell_type": "code",
   "execution_count": 52,
   "id": "4869f420",
   "metadata": {},
   "outputs": [
    {
     "data": {
      "text/plain": [
       "'cat'"
      ]
     },
     "execution_count": 52,
     "metadata": {},
     "output_type": "execute_result"
    }
   ],
   "source": [
    "j + k + l"
   ]
  },
  {
   "cell_type": "markdown",
   "id": "9f96e7eb",
   "metadata": {},
   "source": [
    "# Q10"
   ]
  },
  {
   "cell_type": "code",
   "execution_count": 57,
   "id": "1b8c33ca",
   "metadata": {},
   "outputs": [],
   "source": [
    "m = 'the '"
   ]
  },
  {
   "cell_type": "code",
   "execution_count": 58,
   "id": "0f6e0937",
   "metadata": {},
   "outputs": [],
   "source": [
    "n = 'had '"
   ]
  },
  {
   "cell_type": "code",
   "execution_count": 56,
   "id": "3dee5319",
   "metadata": {},
   "outputs": [],
   "source": [
    "o = 'dinner'"
   ]
  },
  {
   "cell_type": "code",
   "execution_count": 61,
   "id": "a97d5dd1",
   "metadata": {},
   "outputs": [
    {
     "data": {
      "text/plain": [
       "'the cat had dinner'"
      ]
     },
     "execution_count": 61,
     "metadata": {},
     "output_type": "execute_result"
    }
   ],
   "source": [
    "m + j + k + l + ' ' + n + o"
   ]
  },
  {
   "cell_type": "code",
   "execution_count": 65,
   "id": "2b41c8f5",
   "metadata": {},
   "outputs": [],
   "source": [
    "p = 'sun '"
   ]
  },
  {
   "cell_type": "code",
   "execution_count": 66,
   "id": "3cb66cc1",
   "metadata": {},
   "outputs": [],
   "source": [
    "q = 'is '"
   ]
  },
  {
   "cell_type": "code",
   "execution_count": 64,
   "id": "b134b4cd",
   "metadata": {},
   "outputs": [],
   "source": [
    "r = 'shining'"
   ]
  },
  {
   "cell_type": "code",
   "execution_count": 67,
   "id": "fc9fc601",
   "metadata": {},
   "outputs": [
    {
     "data": {
      "text/plain": [
       "'the sun is shining'"
      ]
     },
     "execution_count": 67,
     "metadata": {},
     "output_type": "execute_result"
    }
   ],
   "source": [
    "m + p + q + r"
   ]
  },
  {
   "cell_type": "markdown",
   "id": "d4453be5",
   "metadata": {},
   "source": [
    "# Bonus"
   ]
  },
  {
   "cell_type": "code",
   "execution_count": 68,
   "id": "795cea13",
   "metadata": {},
   "outputs": [
    {
     "data": {
      "text/plain": [
       "'dinnerdinnerdinnerdinnerdinnerdinnerdinnerdinnerdinnerdinnerdinnerdinnerdinnerdinnerdinnerdinnerdinnerdinnerdinnerdinnerdinnerdinnerdinnerdinnerdinnerdinnerdinnerdinnerdinnerdinnerdinnerdinnerdinnerdinnerdinnerdinnerdinnerdinnerdinnerdinnerdinnerdinnerdinnerdinnerdinnerdinnerdinnerdinnerdinnerdinnerdinnerdinnerdinnerdinnerdinnerdinnerdinnerdinnerdinnerdinnerdinnerdinnerdinnerdinnerdinnerdinnerdinnerdinnerdinnerdinnerdinnerdinnerdinnerdinnerdinnerdinnerdinnerdinnerdinnerdinnerdinnerdinnerdinnerdinnerdinnerdinnerdinnerdinnerdinnerdinnerdinnerdinnerdinnerdinnerdinnerdinnerdinnerdinnerdinnerdinner'"
      ]
     },
     "execution_count": 68,
     "metadata": {},
     "output_type": "execute_result"
    }
   ],
   "source": [
    "o * 100"
   ]
  },
  {
   "cell_type": "code",
   "execution_count": null,
   "id": "1be60cc6",
   "metadata": {},
   "outputs": [],
   "source": []
  },
  {
   "cell_type": "code",
   "execution_count": null,
   "id": "4497e8f9",
   "metadata": {},
   "outputs": [],
   "source": []
  }
 ],
 "metadata": {
  "kernelspec": {
   "display_name": "Python 3 (ipykernel)",
   "language": "python",
   "name": "python3"
  },
  "language_info": {
   "codemirror_mode": {
    "name": "ipython",
    "version": 3
   },
   "file_extension": ".py",
   "mimetype": "text/x-python",
   "name": "python",
   "nbconvert_exporter": "python",
   "pygments_lexer": "ipython3",
   "version": "3.10.9"
  }
 },
 "nbformat": 4,
 "nbformat_minor": 5
}
